{
 "cells": [
  {
   "cell_type": "code",
   "execution_count": 10,
   "id": "7fed1ba4-1807-4d03-abf0-cd24f00f8729",
   "metadata": {},
   "outputs": [
    {
     "name": "stdout",
     "output_type": "stream",
     "text": [
      "[[1 2 3 4]\n",
      " [5 6 7 8]]\n"
     ]
    }
   ],
   "source": [
    "#Reshaping of arrays...\n",
    "import numpy as np\n",
    "A=np.array([[1,2,3,4,5,6,7,8]])\n",
    "new_array=A.reshape(2,4)\n",
    "print(new_array)"
   ]
  },
  {
   "cell_type": "code",
   "execution_count": 17,
   "id": "9976e6e4-6cb3-4915-b97e-8c0e4ebb386a",
   "metadata": {},
   "outputs": [
    {
     "name": "stdout",
     "output_type": "stream",
     "text": [
      "[ 3  5  7 10]\n"
     ]
    }
   ],
   "source": [
    "B=np.array([1,2,3,4])\n",
    "A=np.array([2,3,4,6])\n",
    "Sum=A+B\n",
    "print(Sum)"
   ]
  },
  {
   "cell_type": "code",
   "execution_count": 31,
   "id": "4e84a868-d047-40a3-827c-dbea26f50347",
   "metadata": {
    "scrolled": true
   },
   "outputs": [
    {
     "name": "stdout",
     "output_type": "stream",
     "text": [
      "[[[[2 3]\n",
      "   [4 5]]]\n",
      "\n",
      "\n",
      " [[[1 2]\n",
      "   [3 7]]]]\n"
     ]
    }
   ],
   "source": [
    "A=np.array([[[[2,3],[4,5]]]])\n",
    "B=np.array([[[[1,2],[3,7]]]])\n",
    "C=np.concatenate([A,B],axis=0)\n",
    "print(C)"
   ]
  },
  {
   "cell_type": "code",
   "execution_count": 39,
   "id": "0fba324a-7347-4980-afe9-2fbd04ca67de",
   "metadata": {
    "scrolled": true
   },
   "outputs": [
    {
     "name": "stdout",
     "output_type": "stream",
     "text": [
      "[array([[1, 2],\n",
      "       [2, 3],\n",
      "       [3, 4]]), array([[5, 6],\n",
      "       [6, 7],\n",
      "       [7, 8]])]\n"
     ]
    }
   ],
   "source": [
    "arr=np.array([[1,2],[2,3],[3,4],[5,6],[6,7],[7,8]])\n",
    "new_array=np.array_split(arr,2.5)\n",
    "print(new_array)"
   ]
  },
  {
   "cell_type": "code",
   "execution_count": 57,
   "id": "30d8353b-28cb-4b11-b6c3-d5ba42745379",
   "metadata": {},
   "outputs": [
    {
     "name": "stdout",
     "output_type": "stream",
     "text": [
      "[55  9  8  7  5  4  3  2  1]\n"
     ]
    }
   ],
   "source": [
    "J=np.array([1,2,3,4,5,55,7,8,9])\n",
    "x=np.sort(J)\n",
    "y=x[::-1]\n",
    "print(y)"
   ]
  },
  {
   "cell_type": "code",
   "execution_count": null,
   "id": "30bd0fed-275d-4719-9b38-5329544ebb44",
   "metadata": {},
   "outputs": [],
   "source": []
  }
 ],
 "metadata": {
  "kernelspec": {
   "display_name": "Python 3 (ipykernel)",
   "language": "python",
   "name": "python3"
  },
  "language_info": {
   "codemirror_mode": {
    "name": "ipython",
    "version": 3
   },
   "file_extension": ".py",
   "mimetype": "text/x-python",
   "name": "python",
   "nbconvert_exporter": "python",
   "pygments_lexer": "ipython3",
   "version": "3.12.4"
  }
 },
 "nbformat": 4,
 "nbformat_minor": 5
}
