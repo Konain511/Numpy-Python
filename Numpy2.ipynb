{
 "cells": [
  {
   "cell_type": "code",
   "execution_count": 3,
   "id": "37d29bcf-c07e-4fb2-8a03-5bdb76900374",
   "metadata": {},
   "outputs": [
    {
     "name": "stdout",
     "output_type": "stream",
     "text": [
      "Sum =  13\n",
      "Power Of Third Element =  36\n",
      "36\n",
      "square root of second element is =  2.23606797749979\n"
     ]
    }
   ],
   "source": [
    "# import math\n",
    "import numpy as np\n",
    "arr4=np.array([4,5,6,7,8,9])\n",
    "print(\"Sum = \",arr4[2]+arr4[3])\n",
    "print(\"Power Of Third Element = \",arr4[2]**2)\n",
    "print(arr4[2]**2)\n",
    "print(\"square root of second element is = \",np.sqrt(arr4[1]))"
   ]
  },
  {
   "cell_type": "code",
   "execution_count": 24,
   "id": "6e2138e0-77c5-4718-b3b7-3483cf8eac63",
   "metadata": {},
   "outputs": [
    {
     "name": "stdout",
     "output_type": "stream",
     "text": [
      "int32\n",
      "1.26.4\n"
     ]
    }
   ],
   "source": [
    "arr=np.array([[1,2,3,4,5,6],[7,8,9,0,1,2],[11,22,33,44,55,66]])\n",
    "print(arr.dtype)\n",
    "print(np.__version__)"
   ]
  },
  {
   "cell_type": "code",
   "execution_count": 2,
   "id": "c3f6c9a3-4be8-4361-8314-3114eb0e7bf4",
   "metadata": {},
   "outputs": [
    {
     "name": "stdout",
     "output_type": "stream",
     "text": [
      "(1, 1, 1, 1, 4)\n"
     ]
    }
   ],
   "source": [
    "import numpy as np\n",
    "arr1=np.array([[1,2,3,4]],ndmin=5)\n",
    "print(arr1.shape)"
   ]
  },
  {
   "cell_type": "code",
   "execution_count": 3,
   "id": "cde4fe6b-ad0d-429e-bd25-11b4956cd78f",
   "metadata": {},
   "outputs": [
    {
     "data": {
      "text/plain": [
       "[[[[[1, 2, 3, 4]]]]]"
      ]
     },
     "execution_count": 3,
     "metadata": {},
     "output_type": "execute_result"
    }
   ],
   "source": [
    "[[[[[1,2,3,4]]]]]"
   ]
  },
  {
   "cell_type": "code",
   "execution_count": 4,
   "id": "f6b667d3-635f-4d4f-a840-f792999ce524",
   "metadata": {},
   "outputs": [
    {
     "name": "stdout",
     "output_type": "stream",
     "text": [
      "4\n",
      "(1, 1, 4)\n"
     ]
    }
   ],
   "source": [
    "arr4=np.array([[[1,2,3,4]]])\n",
    "print(arr4[0,0,3])\n",
    "print(arr4.shape)"
   ]
  },
  {
   "cell_type": "code",
   "execution_count": 5,
   "id": "3b40aee6-274a-4863-a3ac-431418862736",
   "metadata": {},
   "outputs": [
    {
     "name": "stdout",
     "output_type": "stream",
     "text": [
      "6\n"
     ]
    }
   ],
   "source": [
    "arr5=np.array([[[1,2,3,4],[2,3,4,5],[3,4,5,6]]])\n",
    "print(arr5[0,2,3])"
   ]
  }
 ],
 "metadata": {
  "kernelspec": {
   "display_name": "Python 3 (ipykernel)",
   "language": "python",
   "name": "python3"
  },
  "language_info": {
   "codemirror_mode": {
    "name": "ipython",
    "version": 3
   },
   "file_extension": ".py",
   "mimetype": "text/x-python",
   "name": "python",
   "nbconvert_exporter": "python",
   "pygments_lexer": "ipython3",
   "version": "3.12.4"
  }
 },
 "nbformat": 4,
 "nbformat_minor": 5
}
